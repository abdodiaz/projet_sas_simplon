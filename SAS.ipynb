{
 "cells": [
  {
   "cell_type": "code",
   "execution_count": null,
   "id": "f3f3bb03",
   "metadata": {},
   "outputs": [],
   "source": [
    "Analyse des Données de Santé Publique"
   ]
  },
  {
   "cell_type": "markdown",
   "id": "f58e2ee3",
   "metadata": {},
   "source": [
    "1-Charger le jeu de données à l’aide de Pandas."
   ]
  },
  {
   "cell_type": "code",
   "execution_count": 3,
   "id": "9ec4baf2",
   "metadata": {},
   "outputs": [],
   "source": [
    "import pandas as ps\n",
    "data = ps.read_csv('DataSet.csv')"
   ]
  },
  {
   "cell_type": "markdown",
   "id": "5f2aeb11",
   "metadata": {},
   "source": [
    "2-Afficher la taille (dimensions) du dataset (lignes, colonnes)."
   ]
  },
  {
   "cell_type": "code",
   "execution_count": 4,
   "id": "c0185eb9",
   "metadata": {},
   "outputs": [
    {
     "name": "stdout",
     "output_type": "stream",
     "text": [
      "rows  : 5735 || columns : 28\n"
     ]
    }
   ],
   "source": [
    "rows, columns= data.shape\n",
    "print(f\"rows  : {rows} || columns : {columns}\")"
   ]
  },
  {
   "cell_type": "markdown",
   "id": "f0eb1808",
   "metadata": {},
   "source": [
    "3-Lister les colonnes disponibles dans le dataset."
   ]
  },
  {
   "cell_type": "code",
   "execution_count": null,
   "id": "262fc7a8",
   "metadata": {},
   "outputs": [
    {
     "name": "stdout",
     "output_type": "stream",
     "text": [
      "['SEQN', 'ALQ101', 'ALQ110', 'ALQ130', 'SMQ020', 'RIAGENDR', 'RIDAGEYR', 'RIDRETH1', 'DMDCITZN', 'DMDEDUC2', 'DMDMARTL', 'DMDHHSIZ', 'WTINT2YR', 'SDMVPSU', 'SDMVSTRA', 'INDFMPIR', 'BPXSY1', 'BPXDI1', 'BPXSY2', 'BPXDI2', 'BMXWT', 'BMXHT', 'BMXBMI', 'BMXLEG', 'BMXARML', 'BMXARMC', 'BMXWAIST', 'HIQ210']\n"
     ]
    }
   ],
   "source": [
    "columnss= data.columns.tolist()\n",
    "print(columnss)"
   ]
  },
  {
   "cell_type": "markdown",
   "id": "5288027c",
   "metadata": {},
   "source": [
    "Créer un sous-ensemble du jeu de données contenant uniquement les colonnes suivantes :"
   ]
  }
 ],
 "metadata": {
  "kernelspec": {
   "display_name": "Python 3",
   "language": "python",
   "name": "python3"
  },
  "language_info": {
   "codemirror_mode": {
    "name": "ipython",
    "version": 3
   },
   "file_extension": ".py",
   "mimetype": "text/x-python",
   "name": "python",
   "nbconvert_exporter": "python",
   "pygments_lexer": "ipython3",
   "version": "3.12.10"
  }
 },
 "nbformat": 4,
 "nbformat_minor": 5
}
