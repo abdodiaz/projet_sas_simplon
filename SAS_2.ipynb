{
 "cells": [
  {
   "cell_type": "markdown",
   "id": "813b6f76",
   "metadata": {},
   "source": [
    "Les requêtes SQL Via SQLAlchemy"
   ]
  },
  {
   "cell_type": "code",
   "execution_count": 11,
   "id": "78470571",
   "metadata": {},
   "outputs": [],
   "source": [
    "from sqlalchemy import create_engine, MetaData, Table, Column, Integer, String, Float, DateTime, ForeignKey,insert,select,text\n",
    "from datetime import datetime\n",
    "from dotenv import load_dotenv\n",
    "import os\n",
    "import pandas as pd\n"
   ]
  },
  {
   "cell_type": "markdown",
   "id": "cfe9a804",
   "metadata": {},
   "source": [
    "Load env"
   ]
  },
  {
   "cell_type": "code",
   "execution_count": 12,
   "id": "f5e0613a",
   "metadata": {},
   "outputs": [],
   "source": [
    "load_dotenv()\n",
    "# load info from .env\n",
    "DB_HOST = os.getenv(\"DB_HOST\")\n",
    "DB_PORT = os.getenv(\"DB_PORT\")\n",
    "DB_NAME = os.getenv(\"DB_NAME\")\n",
    "DB_USER = os.getenv(\"DB_USER\")\n",
    "DB_PASSWORD = os.getenv(\"DB_PASSWORD\")"
   ]
  },
  {
   "cell_type": "markdown",
   "id": "cbcc4cc9",
   "metadata": {},
   "source": [
    "CREATION DE CONNECTION AVEC DATA BASE"
   ]
  },
  {
   "cell_type": "code",
   "execution_count": 13,
   "id": "324470bd",
   "metadata": {},
   "outputs": [],
   "source": [
    "# url for connection\n",
    "DATABASE_URL = f\"postgresql+psycopg2://{DB_USER}:{DB_PASSWORD}@{DB_HOST}:{DB_PORT}/{DB_NAME}\"\n",
    "# create connection with database\n",
    "engine = create_engine(DATABASE_URL, echo=True)"
   ]
  },
  {
   "cell_type": "markdown",
   "id": "5cdd779a",
   "metadata": {},
   "source": [
    "create table"
   ]
  },
  {
   "cell_type": "code",
   "execution_count": 14,
   "id": "73a0b436",
   "metadata": {},
   "outputs": [
    {
     "name": "stdout",
     "output_type": "stream",
     "text": [
      "2025-07-11 09:12:46,630 INFO sqlalchemy.engine.Engine select pg_catalog.version()\n",
      "2025-07-11 09:12:46,631 INFO sqlalchemy.engine.Engine [raw sql] {}\n",
      "2025-07-11 09:12:46,632 INFO sqlalchemy.engine.Engine select current_schema()\n",
      "2025-07-11 09:12:46,633 INFO sqlalchemy.engine.Engine [raw sql] {}\n",
      "2025-07-11 09:12:46,635 INFO sqlalchemy.engine.Engine show standard_conforming_strings\n",
      "2025-07-11 09:12:46,636 INFO sqlalchemy.engine.Engine [raw sql] {}\n",
      "2025-07-11 09:12:46,638 INFO sqlalchemy.engine.Engine BEGIN (implicit)\n",
      "2025-07-11 09:12:46,644 INFO sqlalchemy.engine.Engine SELECT pg_catalog.pg_class.relname \n",
      "FROM pg_catalog.pg_class JOIN pg_catalog.pg_namespace ON pg_catalog.pg_namespace.oid = pg_catalog.pg_class.relnamespace \n",
      "WHERE pg_catalog.pg_class.relname = %(table_name)s AND pg_catalog.pg_class.relkind = ANY (ARRAY[%(param_1)s, %(param_2)s, %(param_3)s, %(param_4)s, %(param_5)s]) AND pg_catalog.pg_table_is_visible(pg_catalog.pg_class.oid) AND pg_catalog.pg_namespace.nspname != %(nspname_1)s\n",
      "2025-07-11 09:12:46,644 INFO sqlalchemy.engine.Engine [generated in 0.00078s] {'table_name': 'health_data_cleaned', 'param_1': 'r', 'param_2': 'p', 'param_3': 'f', 'param_4': 'v', 'param_5': 'm', 'nspname_1': 'pg_catalog'}\n",
      "2025-07-11 09:12:46,649 INFO sqlalchemy.engine.Engine SELECT pg_catalog.pg_class.relname \n",
      "FROM pg_catalog.pg_class JOIN pg_catalog.pg_namespace ON pg_catalog.pg_namespace.oid = pg_catalog.pg_class.relnamespace \n",
      "WHERE pg_catalog.pg_class.relname = %(table_name)s AND pg_catalog.pg_class.relkind = ANY (ARRAY[%(param_1)s, %(param_2)s, %(param_3)s, %(param_4)s, %(param_5)s]) AND pg_catalog.pg_table_is_visible(pg_catalog.pg_class.oid) AND pg_catalog.pg_namespace.nspname != %(nspname_1)s\n",
      "2025-07-11 09:12:46,650 INFO sqlalchemy.engine.Engine [cached since 0.00599s ago] {'table_name': 'health_data_cleaned', 'param_1': 'r', 'param_2': 'p', 'param_3': 'f', 'param_4': 'v', 'param_5': 'm', 'nspname_1': 'pg_catalog'}\n",
      "2025-07-11 09:12:46,652 INFO sqlalchemy.engine.Engine SELECT pg_catalog.pg_class.relname \n",
      "FROM pg_catalog.pg_class JOIN pg_catalog.pg_namespace ON pg_catalog.pg_namespace.oid = pg_catalog.pg_class.relnamespace \n",
      "WHERE pg_catalog.pg_class.relkind = ANY (ARRAY[%(param_1)s, %(param_2)s]) AND pg_catalog.pg_class.relpersistence != %(relpersistence_1)s AND pg_catalog.pg_table_is_visible(pg_catalog.pg_class.oid) AND pg_catalog.pg_namespace.nspname != %(nspname_1)s\n",
      "2025-07-11 09:12:46,653 INFO sqlalchemy.engine.Engine [generated in 0.00088s] {'param_1': 'r', 'param_2': 'p', 'relpersistence_1': 't', 'nspname_1': 'pg_catalog'}\n",
      "2025-07-11 09:12:46,657 INFO sqlalchemy.engine.Engine SELECT pg_catalog.pg_class.relname \n",
      "FROM pg_catalog.pg_class JOIN pg_catalog.pg_namespace ON pg_catalog.pg_namespace.oid = pg_catalog.pg_class.relnamespace \n",
      "WHERE pg_catalog.pg_class.relkind = ANY (ARRAY[%(param_1)s]) AND pg_catalog.pg_class.relpersistence != %(relpersistence_1)s AND pg_catalog.pg_table_is_visible(pg_catalog.pg_class.oid) AND pg_catalog.pg_namespace.nspname != %(nspname_1)s\n",
      "2025-07-11 09:12:46,658 INFO sqlalchemy.engine.Engine [generated in 0.00134s] {'param_1': 'v', 'relpersistence_1': 't', 'nspname_1': 'pg_catalog'}\n",
      "2025-07-11 09:12:46,660 INFO sqlalchemy.engine.Engine SELECT pg_catalog.pg_class.relname \n",
      "FROM pg_catalog.pg_class JOIN pg_catalog.pg_namespace ON pg_catalog.pg_namespace.oid = pg_catalog.pg_class.relnamespace \n",
      "WHERE pg_catalog.pg_class.relkind = ANY (ARRAY[%(param_1)s]) AND pg_catalog.pg_class.relpersistence != %(relpersistence_1)s AND pg_catalog.pg_table_is_visible(pg_catalog.pg_class.oid) AND pg_catalog.pg_namespace.nspname != %(nspname_1)s\n",
      "2025-07-11 09:12:46,662 INFO sqlalchemy.engine.Engine [cached since 0.005082s ago] {'param_1': 'm', 'relpersistence_1': 't', 'nspname_1': 'pg_catalog'}\n",
      "2025-07-11 09:12:46,667 INFO sqlalchemy.engine.Engine SELECT pg_catalog.pg_attribute.attname AS name, pg_catalog.format_type(pg_catalog.pg_attribute.atttypid, pg_catalog.pg_attribute.atttypmod) AS format_type, (SELECT pg_catalog.pg_get_expr(pg_catalog.pg_attrdef.adbin, pg_catalog.pg_attrdef.adrelid) AS pg_get_expr_1 \n",
      "FROM pg_catalog.pg_attrdef \n",
      "WHERE pg_catalog.pg_attrdef.adrelid = pg_catalog.pg_attribute.attrelid AND pg_catalog.pg_attrdef.adnum = pg_catalog.pg_attribute.attnum AND pg_catalog.pg_attribute.atthasdef) AS \"default\", pg_catalog.pg_attribute.attnotnull AS not_null, pg_catalog.pg_class.relname AS table_name, pg_catalog.pg_description.description AS comment, pg_catalog.pg_attribute.attgenerated AS generated, (SELECT json_build_object(%(json_build_object_2)s, pg_catalog.pg_attribute.attidentity = %(attidentity_1)s, %(json_build_object_3)s, pg_catalog.pg_sequence.seqstart, %(json_build_object_4)s, pg_catalog.pg_sequence.seqincrement, %(json_build_object_5)s, pg_catalog.pg_sequence.seqmin, %(json_build_object_6)s, pg_catalog.pg_sequence.seqmax, %(json_build_object_7)s, pg_catalog.pg_sequence.seqcache, %(json_build_object_8)s, pg_catalog.pg_sequence.seqcycle) AS json_build_object_1 \n",
      "FROM pg_catalog.pg_sequence \n",
      "WHERE pg_catalog.pg_attribute.attidentity != %(attidentity_2)s AND pg_catalog.pg_sequence.seqrelid = CAST(CAST(pg_catalog.pg_get_serial_sequence(CAST(CAST(pg_catalog.pg_attribute.attrelid AS REGCLASS) AS TEXT), pg_catalog.pg_attribute.attname) AS REGCLASS) AS OID)) AS identity_options \n",
      "FROM pg_catalog.pg_class LEFT OUTER JOIN pg_catalog.pg_attribute ON pg_catalog.pg_class.oid = pg_catalog.pg_attribute.attrelid AND pg_catalog.pg_attribute.attnum > %(attnum_1)s AND NOT pg_catalog.pg_attribute.attisdropped LEFT OUTER JOIN pg_catalog.pg_description ON pg_catalog.pg_description.objoid = pg_catalog.pg_attribute.attrelid AND pg_catalog.pg_description.objsubid = pg_catalog.pg_attribute.attnum JOIN pg_catalog.pg_namespace ON pg_catalog.pg_namespace.oid = pg_catalog.pg_class.relnamespace \n",
      "WHERE pg_catalog.pg_class.relkind = ANY (ARRAY[%(param_1)s, %(param_2)s, %(param_3)s, %(param_4)s, %(param_5)s]) AND pg_catalog.pg_table_is_visible(pg_catalog.pg_class.oid) AND pg_catalog.pg_namespace.nspname != %(nspname_1)s AND pg_catalog.pg_class.relname IN (%(filter_names_1)s) ORDER BY pg_catalog.pg_class.relname, pg_catalog.pg_attribute.attnum\n",
      "2025-07-11 09:12:46,668 INFO sqlalchemy.engine.Engine [generated in 0.00083s] {'json_build_object_2': 'always', 'attidentity_1': 'a', 'json_build_object_3': 'start', 'json_build_object_4': 'increment', 'json_build_object_5': 'minvalue', 'json_build_object_6': 'maxvalue', 'json_build_object_7': 'cache', 'json_build_object_8': 'cycle', 'attidentity_2': '', 'attnum_1': 0, 'param_1': 'r', 'param_2': 'p', 'param_3': 'f', 'param_4': 'v', 'param_5': 'm', 'nspname_1': 'pg_catalog', 'filter_names_1': 'health_data_cleaned'}\n",
      "2025-07-11 09:12:46,679 INFO sqlalchemy.engine.Engine SELECT pg_catalog.pg_type.typname AS name, pg_catalog.format_type(pg_catalog.pg_type.typbasetype, pg_catalog.pg_type.typtypmod) AS attype, NOT pg_catalog.pg_type.typnotnull AS nullable, pg_catalog.pg_type.typdefault AS \"default\", pg_catalog.pg_type_is_visible(pg_catalog.pg_type.oid) AS visible, pg_catalog.pg_namespace.nspname AS schema, domain_constraints.condefs, domain_constraints.connames, pg_catalog.pg_collation.collname \n",
      "FROM pg_catalog.pg_type JOIN pg_catalog.pg_namespace ON pg_catalog.pg_namespace.oid = pg_catalog.pg_type.typnamespace LEFT OUTER JOIN pg_catalog.pg_collation ON pg_catalog.pg_type.typcollation = pg_catalog.pg_collation.oid LEFT OUTER JOIN (SELECT pg_catalog.pg_constraint.contypid AS contypid, array_agg(pg_catalog.pg_get_constraintdef(pg_catalog.pg_constraint.oid, %(pg_get_constraintdef_1)s)) AS condefs, array_agg(CAST(pg_catalog.pg_constraint.conname AS TEXT)) AS connames \n",
      "FROM pg_catalog.pg_constraint \n",
      "WHERE pg_catalog.pg_constraint.contypid != %(contypid_1)s GROUP BY pg_catalog.pg_constraint.contypid) AS domain_constraints ON pg_catalog.pg_type.oid = domain_constraints.contypid \n",
      "WHERE pg_catalog.pg_type.typtype = %(typtype_1)s ORDER BY pg_catalog.pg_namespace.nspname, pg_catalog.pg_type.typname\n",
      "2025-07-11 09:12:46,679 INFO sqlalchemy.engine.Engine [generated in 0.00085s] {'pg_get_constraintdef_1': True, 'contypid_1': 0, 'typtype_1': 'd'}\n",
      "2025-07-11 09:12:46,687 INFO sqlalchemy.engine.Engine SELECT pg_catalog.pg_type.typname AS name, pg_catalog.pg_type_is_visible(pg_catalog.pg_type.oid) AS visible, pg_catalog.pg_namespace.nspname AS schema, lbl_agg.labels AS labels \n",
      "FROM pg_catalog.pg_type JOIN pg_catalog.pg_namespace ON pg_catalog.pg_namespace.oid = pg_catalog.pg_type.typnamespace LEFT OUTER JOIN (SELECT pg_catalog.pg_enum.enumtypid AS enumtypid, array_agg(CAST(pg_catalog.pg_enum.enumlabel AS TEXT) ORDER BY pg_catalog.pg_enum.enumsortorder) AS labels \n",
      "FROM pg_catalog.pg_enum GROUP BY pg_catalog.pg_enum.enumtypid) AS lbl_agg ON pg_catalog.pg_type.oid = lbl_agg.enumtypid \n",
      "WHERE pg_catalog.pg_type.typtype = %(typtype_1)s ORDER BY pg_catalog.pg_namespace.nspname, pg_catalog.pg_type.typname\n",
      "2025-07-11 09:12:46,688 INFO sqlalchemy.engine.Engine [generated in 0.00082s] {'typtype_1': 'e'}\n",
      "2025-07-11 09:12:46,692 INFO sqlalchemy.engine.Engine SELECT pg_catalog.pg_class.oid, pg_catalog.pg_class.relname \n",
      "FROM pg_catalog.pg_class JOIN pg_catalog.pg_namespace ON pg_catalog.pg_namespace.oid = pg_catalog.pg_class.relnamespace \n",
      "WHERE pg_catalog.pg_class.relkind = ANY (ARRAY[%(param_1)s, %(param_2)s, %(param_3)s, %(param_4)s, %(param_5)s]) AND pg_catalog.pg_table_is_visible(pg_catalog.pg_class.oid) AND pg_catalog.pg_namespace.nspname != %(nspname_1)s AND pg_catalog.pg_class.relname IN (%(filter_names_1)s)\n",
      "2025-07-11 09:12:46,693 INFO sqlalchemy.engine.Engine [generated in 0.00100s] {'param_1': 'r', 'param_2': 'p', 'param_3': 'f', 'param_4': 'v', 'param_5': 'm', 'nspname_1': 'pg_catalog', 'filter_names_1': 'health_data_cleaned'}\n",
      "2025-07-11 09:12:46,698 INFO sqlalchemy.engine.Engine SELECT attr.conrelid, array_agg(CAST(attr.attname AS TEXT) ORDER BY attr.ord) AS cols, attr.conname, min(attr.description) AS description, min(attr.indnkeyatts) AS indnkeyatts, bool_and(attr.indnullsnotdistinct) AS indnullsnotdistinct \n",
      "FROM (SELECT con.conrelid AS conrelid, con.conname AS conname, con.description AS description, con.ord AS ord, con.indnkeyatts AS indnkeyatts, con.indnullsnotdistinct AS indnullsnotdistinct, pg_catalog.pg_attribute.attname AS attname \n",
      "FROM pg_catalog.pg_attribute JOIN (SELECT pg_catalog.pg_constraint.conrelid AS conrelid, pg_catalog.pg_constraint.conname AS conname, unnest(pg_catalog.pg_index.indkey) AS attnum, generate_subscripts(pg_catalog.pg_index.indkey, %(generate_subscripts_1)s) AS ord, pg_catalog.pg_index.indnkeyatts AS indnkeyatts, pg_catalog.pg_index.indnullsnotdistinct AS indnullsnotdistinct, pg_catalog.pg_description.description AS description \n",
      "FROM pg_catalog.pg_constraint JOIN pg_catalog.pg_index ON pg_catalog.pg_constraint.conindid = pg_catalog.pg_index.indexrelid LEFT OUTER JOIN pg_catalog.pg_description ON pg_catalog.pg_description.objoid = pg_catalog.pg_constraint.oid \n",
      "WHERE pg_catalog.pg_constraint.contype = %(contype)s AND pg_catalog.pg_constraint.conrelid IN (%(oids_1)s)) AS con ON pg_catalog.pg_attribute.attnum = con.attnum AND pg_catalog.pg_attribute.attrelid = con.conrelid \n",
      "WHERE con.conrelid IN (%(oids_1)s)) AS attr GROUP BY attr.conrelid, attr.conname ORDER BY attr.conrelid, attr.conname\n",
      "2025-07-11 09:12:46,699 INFO sqlalchemy.engine.Engine [generated in 0.00084s] {'generate_subscripts_1': 1, 'contype': 'p', 'oids_1': 16610}\n",
      "2025-07-11 09:12:46,705 INFO sqlalchemy.engine.Engine SELECT pg_catalog.pg_class.relname, pg_catalog.pg_constraint.conname, CASE WHEN (pg_catalog.pg_constraint.oid IS NOT NULL) THEN pg_catalog.pg_get_constraintdef(pg_catalog.pg_constraint.oid, %(pg_get_constraintdef_1)s) END AS anon_1, nsp_ref.nspname, pg_catalog.pg_description.description \n",
      "FROM pg_catalog.pg_class LEFT OUTER JOIN pg_catalog.pg_constraint ON pg_catalog.pg_class.oid = pg_catalog.pg_constraint.conrelid AND pg_catalog.pg_constraint.contype = %(contype_1)s LEFT OUTER JOIN pg_catalog.pg_class AS cls_ref ON cls_ref.oid = pg_catalog.pg_constraint.confrelid LEFT OUTER JOIN pg_catalog.pg_namespace AS nsp_ref ON cls_ref.relnamespace = nsp_ref.oid LEFT OUTER JOIN pg_catalog.pg_description ON pg_catalog.pg_description.objoid = pg_catalog.pg_constraint.oid JOIN pg_catalog.pg_namespace ON pg_catalog.pg_namespace.oid = pg_catalog.pg_class.relnamespace \n",
      "WHERE pg_catalog.pg_class.relkind = ANY (ARRAY[%(param_1)s, %(param_2)s, %(param_3)s, %(param_4)s, %(param_5)s]) AND pg_catalog.pg_table_is_visible(pg_catalog.pg_class.oid) AND pg_catalog.pg_namespace.nspname != %(nspname_1)s AND pg_catalog.pg_class.relname IN (%(filter_names_1)s) ORDER BY pg_catalog.pg_class.relname, pg_catalog.pg_constraint.conname\n",
      "2025-07-11 09:12:46,706 INFO sqlalchemy.engine.Engine [generated in 0.00101s] {'pg_get_constraintdef_1': True, 'contype_1': 'f', 'param_1': 'r', 'param_2': 'p', 'param_3': 'f', 'param_4': 'v', 'param_5': 'm', 'nspname_1': 'pg_catalog', 'filter_names_1': 'health_data_cleaned'}\n",
      "2025-07-11 09:12:46,714 INFO sqlalchemy.engine.Engine SELECT pg_catalog.pg_index.indrelid, pg_catalog.pg_class.relname, pg_catalog.pg_index.indisunique, pg_catalog.pg_constraint.conrelid IS NOT NULL AS has_constraint, pg_catalog.pg_index.indoption, pg_catalog.pg_class.reloptions, pg_catalog.pg_am.amname, CASE WHEN (pg_catalog.pg_index.indpred IS NOT NULL) THEN pg_catalog.pg_get_expr(pg_catalog.pg_index.indpred, pg_catalog.pg_index.indrelid) END AS filter_definition, pg_catalog.pg_index.indnkeyatts, pg_catalog.pg_index.indnullsnotdistinct, idx_cols.elements, idx_cols.elements_is_expr \n",
      "FROM pg_catalog.pg_index JOIN pg_catalog.pg_class ON pg_catalog.pg_index.indexrelid = pg_catalog.pg_class.oid JOIN pg_catalog.pg_am ON pg_catalog.pg_class.relam = pg_catalog.pg_am.oid LEFT OUTER JOIN (SELECT idx_attr.indexrelid AS indexrelid, min(idx_attr.indrelid) AS min_1, array_agg(idx_attr.element ORDER BY idx_attr.ord) AS elements, array_agg(idx_attr.is_expr ORDER BY idx_attr.ord) AS elements_is_expr \n",
      "FROM (SELECT idx.indexrelid AS indexrelid, idx.indrelid AS indrelid, idx.ord AS ord, CASE WHEN (idx.attnum = %(attnum_1)s) THEN pg_catalog.pg_get_indexdef(idx.indexrelid, idx.ord + %(ord_1)s, %(pg_get_indexdef_1)s) ELSE CAST(pg_catalog.pg_attribute.attname AS TEXT) END AS element, idx.attnum = %(attnum_2)s AS is_expr \n",
      "FROM (SELECT pg_catalog.pg_index.indexrelid AS indexrelid, pg_catalog.pg_index.indrelid AS indrelid, unnest(pg_catalog.pg_index.indkey) AS attnum, generate_subscripts(pg_catalog.pg_index.indkey, %(generate_subscripts_1)s) AS ord \n",
      "FROM pg_catalog.pg_index \n",
      "WHERE NOT pg_catalog.pg_index.indisprimary AND pg_catalog.pg_index.indrelid IN (%(oids_1)s)) AS idx LEFT OUTER JOIN pg_catalog.pg_attribute ON pg_catalog.pg_attribute.attnum = idx.attnum AND pg_catalog.pg_attribute.attrelid = idx.indrelid \n",
      "WHERE idx.indrelid IN (%(oids_1)s)) AS idx_attr GROUP BY idx_attr.indexrelid) AS idx_cols ON pg_catalog.pg_index.indexrelid = idx_cols.indexrelid LEFT OUTER JOIN pg_catalog.pg_constraint ON pg_catalog.pg_index.indrelid = pg_catalog.pg_constraint.conrelid AND pg_catalog.pg_index.indexrelid = pg_catalog.pg_constraint.conindid AND pg_catalog.pg_constraint.contype = ANY (ARRAY[%(param_1)s, %(param_2)s, %(param_3)s]) \n",
      "WHERE pg_catalog.pg_index.indrelid IN (%(oids_1)s) AND NOT pg_catalog.pg_index.indisprimary ORDER BY pg_catalog.pg_index.indrelid, pg_catalog.pg_class.relname\n",
      "2025-07-11 09:12:46,715 INFO sqlalchemy.engine.Engine [generated in 0.00091s] {'attnum_1': 0, 'ord_1': 1, 'pg_get_indexdef_1': True, 'attnum_2': 0, 'generate_subscripts_1': 1, 'param_1': 'p', 'param_2': 'u', 'param_3': 'x', 'oids_1': 16610}\n",
      "2025-07-11 09:12:46,719 INFO sqlalchemy.engine.Engine SELECT attr.conrelid, array_agg(CAST(attr.attname AS TEXT) ORDER BY attr.ord) AS cols, attr.conname, min(attr.description) AS description, min(attr.indnkeyatts) AS indnkeyatts, bool_and(attr.indnullsnotdistinct) AS indnullsnotdistinct \n",
      "FROM (SELECT con.conrelid AS conrelid, con.conname AS conname, con.description AS description, con.ord AS ord, con.indnkeyatts AS indnkeyatts, con.indnullsnotdistinct AS indnullsnotdistinct, pg_catalog.pg_attribute.attname AS attname \n",
      "FROM pg_catalog.pg_attribute JOIN (SELECT pg_catalog.pg_constraint.conrelid AS conrelid, pg_catalog.pg_constraint.conname AS conname, unnest(pg_catalog.pg_index.indkey) AS attnum, generate_subscripts(pg_catalog.pg_index.indkey, %(generate_subscripts_1)s) AS ord, pg_catalog.pg_index.indnkeyatts AS indnkeyatts, pg_catalog.pg_index.indnullsnotdistinct AS indnullsnotdistinct, pg_catalog.pg_description.description AS description \n",
      "FROM pg_catalog.pg_constraint JOIN pg_catalog.pg_index ON pg_catalog.pg_constraint.conindid = pg_catalog.pg_index.indexrelid LEFT OUTER JOIN pg_catalog.pg_description ON pg_catalog.pg_description.objoid = pg_catalog.pg_constraint.oid \n",
      "WHERE pg_catalog.pg_constraint.contype = %(contype)s AND pg_catalog.pg_constraint.conrelid IN (%(oids_1)s)) AS con ON pg_catalog.pg_attribute.attnum = con.attnum AND pg_catalog.pg_attribute.attrelid = con.conrelid \n",
      "WHERE con.conrelid IN (%(oids_1)s)) AS attr GROUP BY attr.conrelid, attr.conname ORDER BY attr.conrelid, attr.conname\n",
      "2025-07-11 09:12:46,720 INFO sqlalchemy.engine.Engine [cached since 0.02221s ago] {'generate_subscripts_1': 1, 'contype': 'u', 'oids_1': 16610}\n",
      "2025-07-11 09:12:46,725 INFO sqlalchemy.engine.Engine SELECT pg_catalog.pg_class.relname, pg_catalog.pg_description.description \n",
      "FROM pg_catalog.pg_class LEFT OUTER JOIN pg_catalog.pg_description ON pg_catalog.pg_class.oid = pg_catalog.pg_description.objoid AND pg_catalog.pg_description.objsubid = %(objsubid_1)s AND pg_catalog.pg_description.classoid = CAST(%(param_1)s AS REGCLASS) JOIN pg_catalog.pg_namespace ON pg_catalog.pg_namespace.oid = pg_catalog.pg_class.relnamespace \n",
      "WHERE pg_catalog.pg_class.relkind = ANY (ARRAY[%(param_2)s, %(param_3)s, %(param_4)s, %(param_5)s, %(param_6)s]) AND pg_catalog.pg_table_is_visible(pg_catalog.pg_class.oid) AND pg_catalog.pg_namespace.nspname != %(nspname_1)s AND pg_catalog.pg_class.relname IN (%(filter_names_1)s)\n",
      "2025-07-11 09:12:46,726 INFO sqlalchemy.engine.Engine [generated in 0.00104s] {'objsubid_1': 0, 'param_1': 'pg_catalog.pg_class', 'param_2': 'r', 'param_3': 'p', 'param_4': 'f', 'param_5': 'v', 'param_6': 'm', 'nspname_1': 'pg_catalog', 'filter_names_1': 'health_data_cleaned'}\n",
      "2025-07-11 09:12:46,729 INFO sqlalchemy.engine.Engine SELECT pg_catalog.pg_class.relname, pg_catalog.pg_constraint.conname, CASE WHEN (pg_catalog.pg_constraint.oid IS NOT NULL) THEN pg_catalog.pg_get_constraintdef(pg_catalog.pg_constraint.oid, %(pg_get_constraintdef_1)s) END AS anon_1, pg_catalog.pg_description.description \n",
      "FROM pg_catalog.pg_class LEFT OUTER JOIN pg_catalog.pg_constraint ON pg_catalog.pg_class.oid = pg_catalog.pg_constraint.conrelid AND pg_catalog.pg_constraint.contype = %(contype_1)s LEFT OUTER JOIN pg_catalog.pg_description ON pg_catalog.pg_description.objoid = pg_catalog.pg_constraint.oid JOIN pg_catalog.pg_namespace ON pg_catalog.pg_namespace.oid = pg_catalog.pg_class.relnamespace \n",
      "WHERE pg_catalog.pg_class.relkind = ANY (ARRAY[%(param_1)s, %(param_2)s, %(param_3)s, %(param_4)s, %(param_5)s]) AND pg_catalog.pg_table_is_visible(pg_catalog.pg_class.oid) AND pg_catalog.pg_namespace.nspname != %(nspname_1)s AND pg_catalog.pg_class.relname IN (%(filter_names_1)s) ORDER BY pg_catalog.pg_class.relname, pg_catalog.pg_constraint.conname\n",
      "2025-07-11 09:12:46,730 INFO sqlalchemy.engine.Engine [generated in 0.00100s] {'pg_get_constraintdef_1': True, 'contype_1': 'c', 'param_1': 'r', 'param_2': 'p', 'param_3': 'f', 'param_4': 'v', 'param_5': 'm', 'nspname_1': 'pg_catalog', 'filter_names_1': 'health_data_cleaned'}\n",
      "2025-07-11 09:12:46,733 INFO sqlalchemy.engine.Engine \n",
      "DROP TABLE health_data_cleaned\n",
      "2025-07-11 09:12:46,733 INFO sqlalchemy.engine.Engine [no key 0.00075s] {}\n",
      "2025-07-11 09:12:46,736 INFO sqlalchemy.engine.Engine \n",
      "CREATE TABLE health_data_cleaned (\n",
      "\tsmoking TEXT, \n",
      "\tgender TEXT, \n",
      "\tage BIGINT, \n",
      "\teducation TEXT, \n",
      "\tweight FLOAT(53), \n",
      "\theight FLOAT(53), \n",
      "\tbmi FLOAT(53)\n",
      ")\n",
      "\n",
      "\n",
      "2025-07-11 09:12:46,736 INFO sqlalchemy.engine.Engine [no key 0.00064s] {}\n",
      "2025-07-11 09:12:46,779 INFO sqlalchemy.engine.Engine INSERT INTO health_data_cleaned (smoking, gender, age, education, weight, height, bmi) VALUES (%(smoking__0)s, %(gender__0)s, %(age__0)s, %(education__0)s, %(weight__0)s, %(height__0)s, %(bmi__0)s), (%(smoking__1)s, %(gender__1)s, %(age__1)s, %(educa ... 117972 characters truncated ... , %(gender__999)s, %(age__999)s, %(education__999)s, %(weight__999)s, %(height__999)s, %(bmi__999)s)\n",
      "2025-07-11 09:12:46,780 INFO sqlalchemy.engine.Engine [generated in 0.02212s (insertmanyvalues) 1/6 (unordered)] {'height__0': 184.5, 'smoking__0': 'yes', 'education__0': 'College or above', 'weight__0': 94.8, 'bmi__0': 27.8, 'age__0': 62, 'gender__0': 'male', 'height__1': 171.4, 'smoking__1': 'yes', 'education__1': 'HS or GED', 'weight__1': 90.4, 'bmi__1': 30.8, 'age__1': 53, 'gender__1': 'male', 'height__2': 170.1, 'smoking__2': 'yes', 'education__2': 'HS or GED', 'weight__2': 83.4, 'bmi__2': 28.8, 'age__2': 78, 'gender__2': 'male', 'height__3': 160.9, 'smoking__3': 'no', 'education__3': 'College or above', 'weight__3': 109.8, 'bmi__3': 42.4, 'age__3': 56, 'gender__3': 'female', 'height__4': 164.9, 'smoking__4': 'no', 'education__4': 'Some college / AA', 'weight__4': 55.2, 'bmi__4': 20.3, 'age__4': 42, 'gender__4': 'female', 'height__5': 150.0, 'smoking__5': 'no', 'education__5': '9-11th grade', 'weight__5': 64.4, 'bmi__5': 28.6, 'age__5': 72, 'gender__5': 'female', 'height__6': 165.4, 'smoking__6': 'yes', 'education__6': 'Some college / AA', 'weight__6': 76.6, 'bmi__6': 28.0, 'age__6': 22, 'gender__6': 'male', 'height__7': 151.3 ... 6900 parameters truncated ... 'gender__992': 'female', 'height__993': 162.5, 'smoking__993': 'no', 'education__993': 'College or above', 'weight__993': 62.1, 'bmi__993': 23.5, 'age__993': 28, 'gender__993': 'male', 'height__994': 147.3, 'smoking__994': 'yes', 'education__994': '9-11th grade', 'weight__994': 48.3, 'bmi__994': 22.3, 'age__994': 68, 'gender__994': 'female', 'height__995': 173.3, 'smoking__995': 'no', 'education__995': '9-11th grade', 'weight__995': 123.8, 'bmi__995': 41.2, 'age__995': 47, 'gender__995': 'female', 'height__996': 170.9, 'smoking__996': 'no', 'education__996': 'College or above', 'weight__996': 65.4, 'bmi__996': 22.4, 'age__996': 26, 'gender__996': 'male', 'height__997': 155.3, 'smoking__997': 'no', 'education__997': 'HS or GED', 'weight__997': 49.5, 'bmi__997': 20.5, 'age__997': 31, 'gender__997': 'female', 'height__998': 166.6, 'smoking__998': 'no', 'education__998': 'Some college / AA', 'weight__998': 74.9, 'bmi__998': 27.0, 'age__998': 34, 'gender__998': 'female', 'height__999': 173.6, 'smoking__999': 'no', 'education__999': 'Some college / AA', 'weight__999': 86.2, 'bmi__999': 28.6, 'age__999': 45, 'gender__999': 'female'}\n",
      "2025-07-11 09:12:46,812 INFO sqlalchemy.engine.Engine INSERT INTO health_data_cleaned (smoking, gender, age, education, weight, height, bmi) VALUES (%(smoking__0)s, %(gender__0)s, %(age__0)s, %(education__0)s, %(weight__0)s, %(height__0)s, %(bmi__0)s), (%(smoking__1)s, %(gender__1)s, %(age__1)s, %(educa ... 117972 characters truncated ... , %(gender__999)s, %(age__999)s, %(education__999)s, %(weight__999)s, %(height__999)s, %(bmi__999)s)\n",
      "2025-07-11 09:12:46,812 INFO sqlalchemy.engine.Engine [insertmanyvalues 2/6 (unordered)] {'height__0': 159.5, 'smoking__0': 'no', 'education__0': 'College or above', 'weight__0': 64.5, 'bmi__0': 25.4, 'age__0': 66, 'gender__0': 'female', 'height__1': 161.8, 'smoking__1': 'yes', 'education__1': 'College or above', 'weight__1': 62.8, 'bmi__1': 24.0, 'age__1': 64, 'gender__1': 'male', 'height__2': 158.6, 'smoking__2': 'yes', 'education__2': 'HS or GED', 'weight__2': 68.2, 'bmi__2': 27.1, 'age__2': 48, 'gender__2': 'female', 'height__3': 164.1, 'smoking__3': 'no', 'education__3': '<9th grade', 'weight__3': 97.7, 'bmi__3': 36.3, 'age__3': 56, 'gender__3': 'female', 'height__4': 158.8, 'smoking__4': 'no', 'education__4': '9-11th grade', 'weight__4': 113.7, 'bmi__4': 45.1, 'age__4': 75, 'gender__4': 'female', 'height__5': 154.7, 'smoking__5': 'yes', 'education__5': '9-11th grade', 'weight__5': 85.0, 'bmi__5': 35.5, 'age__5': 80, 'gender__5': 'female', 'height__6': 179.2, 'smoking__6': 'yes', 'education__6': 'College or above', 'weight__6': 72.5, 'bmi__6': 22.6, 'age__6': 74, 'gender__6': 'male', 'height__7': 161.0 ... 6900 parameters truncated ... 'gender__992': 'male', 'height__993': 170.8, 'smoking__993': 'no', 'education__993': '9-11th grade', 'weight__993': 62.7, 'bmi__993': 21.5, 'age__993': 21, 'gender__993': 'male', 'height__994': 177.2, 'smoking__994': 'yes', 'education__994': '9-11th grade', 'weight__994': 68.5, 'bmi__994': 21.8, 'age__994': 77, 'gender__994': 'male', 'height__995': 161.7, 'smoking__995': 'yes', 'education__995': 'College or above', 'weight__995': 91.9, 'bmi__995': 35.1, 'age__995': 51, 'gender__995': 'female', 'height__996': 172.4, 'smoking__996': 'no', 'education__996': 'College or above', 'weight__996': 65.6, 'bmi__996': 22.1, 'age__996': 28, 'gender__996': 'female', 'height__997': 169.4, 'smoking__997': 'yes', 'education__997': 'Some college / AA', 'weight__997': 88.7, 'bmi__997': 30.9, 'age__997': 42, 'gender__997': 'female', 'height__998': 165.1, 'smoking__998': 'no', 'education__998': 'HS or GED', 'weight__998': 84.5, 'bmi__998': 31.0, 'age__998': 27, 'gender__998': 'female', 'height__999': 176.9, 'smoking__999': 'yes', 'education__999': 'HS or GED', 'weight__999': 88.0, 'bmi__999': 28.1, 'age__999': 39, 'gender__999': 'male'}\n",
      "2025-07-11 09:12:46,843 INFO sqlalchemy.engine.Engine INSERT INTO health_data_cleaned (smoking, gender, age, education, weight, height, bmi) VALUES (%(smoking__0)s, %(gender__0)s, %(age__0)s, %(education__0)s, %(weight__0)s, %(height__0)s, %(bmi__0)s), (%(smoking__1)s, %(gender__1)s, %(age__1)s, %(educa ... 117972 characters truncated ... , %(gender__999)s, %(age__999)s, %(education__999)s, %(weight__999)s, %(height__999)s, %(bmi__999)s)\n",
      "2025-07-11 09:12:46,844 INFO sqlalchemy.engine.Engine [insertmanyvalues 3/6 (unordered)] {'height__0': 178.9, 'smoking__0': 'no', 'education__0': 'College or above', 'weight__0': 142.4, 'bmi__0': 44.5, 'age__0': 57, 'gender__0': 'male', 'height__1': 179.1, 'smoking__1': 'yes', 'education__1': 'HS or GED', 'weight__1': 79.6, 'bmi__1': 24.8, 'age__1': 26, 'gender__1': 'male', 'height__2': 185.3, 'smoking__2': 'no', 'education__2': 'College or above', 'weight__2': 100.6, 'bmi__2': 29.3, 'age__2': 45, 'gender__2': 'male', 'height__3': 161.3, 'smoking__3': 'no', 'education__3': 'College or above', 'weight__3': 81.5, 'bmi__3': 31.3, 'age__3': 36, 'gender__3': 'male', 'height__4': 176.9, 'smoking__4': 'no', 'education__4': 'College or above', 'weight__4': 94.7, 'bmi__4': 30.3, 'age__4': 37, 'gender__4': 'male', 'height__5': 167.7, 'smoking__5': 'no', 'education__5': 'Some college / AA', 'weight__5': 113.2, 'bmi__5': 40.3, 'age__5': 31, 'gender__5': 'female', 'height__6': 180.5, 'smoking__6': 'no', 'education__6': 'College or above', 'weight__6': 85.1, 'bmi__6': 26.1, 'age__6': 78, 'gender__6': 'male', 'height__7': 158.9 ... 6900 parameters truncated ... 'gender__992': 'male', 'height__993': 184.8, 'smoking__993': 'yes', 'education__993': 'Some college / AA', 'weight__993': 100.3, 'bmi__993': 29.4, 'age__993': 24, 'gender__993': 'male', 'height__994': 174.0, 'smoking__994': 'yes', 'education__994': 'HS or GED', 'weight__994': 110.9, 'bmi__994': 36.6, 'age__994': 54, 'gender__994': 'male', 'height__995': 174.9, 'smoking__995': 'yes', 'education__995': 'Some college / AA', 'weight__995': 78.2, 'bmi__995': 25.6, 'age__995': 40, 'gender__995': 'male', 'height__996': 159.9, 'smoking__996': 'no', 'education__996': 'College or above', 'weight__996': 71.0, 'bmi__996': 27.8, 'age__996': 69, 'gender__996': 'female', 'height__997': 165.4, 'smoking__997': 'yes', 'education__997': '<9th grade', 'weight__997': 124.8, 'bmi__997': 45.6, 'age__997': 21, 'gender__997': 'female', 'height__998': 166.4, 'smoking__998': 'no', 'education__998': 'Some college / AA', 'weight__998': 168.6, 'bmi__998': 60.9, 'age__998': 36, 'gender__998': 'female', 'height__999': 166.1, 'smoking__999': 'no', 'education__999': 'HS or GED', 'weight__999': 82.3, 'bmi__999': 29.8, 'age__999': 27, 'gender__999': 'female'}\n",
      "2025-07-11 09:12:46,872 INFO sqlalchemy.engine.Engine INSERT INTO health_data_cleaned (smoking, gender, age, education, weight, height, bmi) VALUES (%(smoking__0)s, %(gender__0)s, %(age__0)s, %(education__0)s, %(weight__0)s, %(height__0)s, %(bmi__0)s), (%(smoking__1)s, %(gender__1)s, %(age__1)s, %(educa ... 117972 characters truncated ... , %(gender__999)s, %(age__999)s, %(education__999)s, %(weight__999)s, %(height__999)s, %(bmi__999)s)\n",
      "2025-07-11 09:12:46,873 INFO sqlalchemy.engine.Engine [insertmanyvalues 4/6 (unordered)] {'height__0': 172.1, 'smoking__0': 'yes', 'education__0': 'Some college / AA', 'weight__0': 82.3, 'bmi__0': 27.8, 'age__0': 19, 'gender__0': 'male', 'height__1': 182.9, 'smoking__1': 'yes', 'education__1': '9-11th grade', 'weight__1': 78.0, 'bmi__1': 23.3, 'age__1': 21, 'gender__1': 'male', 'height__2': 157.8, 'smoking__2': 'no', 'education__2': '<9th grade', 'weight__2': 89.6, 'bmi__2': 36.0, 'age__2': 73, 'gender__2': 'female', 'height__3': 170.2, 'smoking__3': 'yes', 'education__3': 'College or above', 'weight__3': 56.2, 'bmi__3': 19.4, 'age__3': 23, 'gender__3': 'male', 'height__4': 180.7, 'smoking__4': 'yes', 'education__4': 'HS or GED', 'weight__4': 99.0, 'bmi__4': 30.3, 'age__4': 31, 'gender__4': 'male', 'height__5': 169.1, 'smoking__5': 'no', 'education__5': 'HS or GED', 'weight__5': 142.5, 'bmi__5': 49.8, 'age__5': 30, 'gender__5': 'male', 'height__6': 161.9, 'smoking__6': 'no', 'education__6': 'Some college / AA', 'weight__6': 114.0, 'bmi__6': 43.5, 'age__6': 49, 'gender__6': 'female', 'height__7': 176.8 ... 6900 parameters truncated ... 'gender__992': 'male', 'height__993': 167.3, 'smoking__993': 'no', 'education__993': '<9th grade', 'weight__993': 84.7, 'bmi__993': 30.3, 'age__993': 51, 'gender__993': 'male', 'height__994': 163.1, 'smoking__994': 'no', 'education__994': 'Some college / AA', 'weight__994': 86.9, 'bmi__994': 32.7, 'age__994': 41, 'gender__994': 'female', 'height__995': 170.1, 'smoking__995': 'no', 'education__995': '<9th grade', 'weight__995': 56.6, 'bmi__995': 19.6, 'age__995': 42, 'gender__995': 'female', 'height__996': 175.8, 'smoking__996': 'no', 'education__996': 'Some college / AA', 'weight__996': 61.4, 'bmi__996': 19.9, 'age__996': 18, 'gender__996': 'male', 'height__997': 188.3, 'smoking__997': 'yes', 'education__997': 'Some college / AA', 'weight__997': 106.2, 'bmi__997': 30.0, 'age__997': 57, 'gender__997': 'male', 'height__998': 177.4, 'smoking__998': 'yes', 'education__998': 'Some college / AA', 'weight__998': 92.4, 'bmi__998': 29.4, 'age__998': 39, 'gender__998': 'male', 'height__999': 170.1, 'smoking__999': 'yes', 'education__999': 'HS or GED', 'weight__999': 82.7, 'bmi__999': 28.6, 'age__999': 43, 'gender__999': 'male'}\n",
      "2025-07-11 09:12:46,902 INFO sqlalchemy.engine.Engine INSERT INTO health_data_cleaned (smoking, gender, age, education, weight, height, bmi) VALUES (%(smoking__0)s, %(gender__0)s, %(age__0)s, %(education__0)s, %(weight__0)s, %(height__0)s, %(bmi__0)s), (%(smoking__1)s, %(gender__1)s, %(age__1)s, %(educa ... 117972 characters truncated ... , %(gender__999)s, %(age__999)s, %(education__999)s, %(weight__999)s, %(height__999)s, %(bmi__999)s)\n",
      "2025-07-11 09:12:46,903 INFO sqlalchemy.engine.Engine [insertmanyvalues 5/6 (unordered)] {'height__0': 174.6, 'smoking__0': 'yes', 'education__0': 'Some college / AA', 'weight__0': 87.6, 'bmi__0': 28.7, 'age__0': 59, 'gender__0': 'male', 'height__1': 152.9, 'smoking__1': 'no', 'education__1': 'College or above', 'weight__1': 57.6, 'bmi__1': 24.6, 'age__1': 44, 'gender__1': 'female', 'height__2': 167.9, 'smoking__2': 'yes', 'education__2': '9-11th grade', 'weight__2': 103.6, 'bmi__2': 36.8, 'age__2': 70, 'gender__2': 'female', 'height__3': 159.6, 'smoking__3': 'yes', 'education__3': 'Some college / AA', 'weight__3': 52.3, 'bmi__3': 20.5, 'age__3': 56, 'gender__3': 'female', 'height__4': 175.0, 'smoking__4': 'no', 'education__4': 'College or above', 'weight__4': 69.1, 'bmi__4': 22.6, 'age__4': 41, 'gender__4': 'male', 'height__5': 160.3, 'smoking__5': 'no', 'education__5': 'Some college / AA', 'weight__5': 94.1, 'bmi__5': 36.6, 'age__5': 72, 'gender__5': 'female', 'height__6': 170.7, 'smoking__6': 'no', 'education__6': 'College or above', 'weight__6': 73.9, 'bmi__6': 25.4, 'age__6': 34, 'gender__6': 'male', 'height__7': 153.0 ... 6900 parameters truncated ... 'gender__992': 'male', 'height__993': 161.3, 'smoking__993': 'no', 'education__993': '9-11th grade', 'weight__993': 107.4, 'bmi__993': 41.3, 'age__993': 54, 'gender__993': 'female', 'height__994': 185.8, 'smoking__994': 'no', 'education__994': 'College or above', 'weight__994': 84.3, 'bmi__994': 24.4, 'age__994': 24, 'gender__994': 'male', 'height__995': 158.1, 'smoking__995': 'no', 'education__995': 'Some college / AA', 'weight__995': 80.3, 'bmi__995': 32.1, 'age__995': 59, 'gender__995': 'female', 'height__996': 174.1, 'smoking__996': 'yes', 'education__996': 'Some college / AA', 'weight__996': 150.9, 'bmi__996': 49.8, 'age__996': 55, 'gender__996': 'female', 'height__997': 164.3, 'smoking__997': 'no', 'education__997': 'College or above', 'weight__997': 72.2, 'bmi__997': 26.7, 'age__997': 40, 'gender__997': 'female', 'height__998': 153.3, 'smoking__998': 'no', 'education__998': 'Some college / AA', 'weight__998': 79.5, 'bmi__998': 33.8, 'age__998': 45, 'gender__998': 'female', 'height__999': 167.7, 'smoking__999': 'yes', 'education__999': 'Some college / AA', 'weight__999': 51.3, 'bmi__999': 18.2, 'age__999': 80, 'gender__999': 'male'}\n",
      "2025-07-11 09:12:46,930 INFO sqlalchemy.engine.Engine INSERT INTO health_data_cleaned (smoking, gender, age, education, weight, height, bmi) VALUES (%(smoking__0)s, %(gender__0)s, %(age__0)s, %(education__0)s, %(weight__0)s, %(height__0)s, %(bmi__0)s), (%(smoking__1)s, %(gender__1)s, %(age__1)s, %(educa ... 86437 characters truncated ... , %(gender__734)s, %(age__734)s, %(education__734)s, %(weight__734)s, %(height__734)s, %(bmi__734)s)\n",
      "2025-07-11 09:12:46,931 INFO sqlalchemy.engine.Engine [insertmanyvalues 6/6 (unordered)] {'height__0': 176.0, 'smoking__0': 'yes', 'education__0': 'College or above', 'weight__0': 102.9, 'bmi__0': 33.2, 'age__0': 41, 'gender__0': 'male', 'height__1': 184.1, 'smoking__1': 'yes', 'education__1': '9-11th grade', 'weight__1': 81.9, 'bmi__1': 24.2, 'age__1': 37, 'gender__1': 'male', 'height__2': 163.6, 'smoking__2': 'yes', 'education__2': '<9th grade', 'weight__2': 49.9, 'bmi__2': 18.6, 'age__2': 48, 'gender__2': 'male', 'height__3': 167.0, 'smoking__3': 'no', 'education__3': 'Some college / AA', 'weight__3': 116.1, 'bmi__3': 41.6, 'age__3': 45, 'gender__3': 'female', 'height__4': 155.2, 'smoking__4': 'no', 'education__4': 'Some college / AA', 'weight__4': 58.3, 'bmi__4': 24.2, 'age__4': 43, 'gender__4': 'female', 'height__5': 168.1, 'smoking__5': 'no', 'education__5': 'HS or GED', 'weight__5': 73.1, 'bmi__5': 25.9, 'age__5': 29, 'gender__5': 'female', 'height__6': 158.2, 'smoking__6': 'yes', 'education__6': 'Some college / AA', 'weight__6': 127.5, 'bmi__6': 50.9, 'age__6': 37, 'gender__6': 'female', 'height__7': 162.0 ... 5045 parameters truncated ... 'gender__727': 'female', 'height__728': 164.9, 'smoking__728': 'no', 'education__728': '9-11th grade', 'weight__728': 89.5, 'bmi__728': 32.9, 'age__728': 32, 'gender__728': 'male', 'height__729': 136.5, 'smoking__729': 'no', 'education__729': 'College or above', 'weight__729': 39.2, 'bmi__729': 21.0, 'age__729': 25, 'gender__729': 'male', 'height__730': 165.8, 'smoking__730': 'yes', 'education__730': 'HS or GED', 'weight__730': 59.1, 'bmi__730': 21.5, 'age__730': 76, 'gender__730': 'female', 'height__731': 182.2, 'smoking__731': 'no', 'education__731': 'College or above', 'weight__731': 112.1, 'bmi__731': 33.8, 'age__731': 26, 'gender__731': 'male', 'height__732': 152.2, 'smoking__732': 'yes', 'education__732': 'Some college / AA', 'weight__732': 71.7, 'bmi__732': 31.0, 'age__732': 80, 'gender__732': 'female', 'height__733': 173.3, 'smoking__733': 'yes', 'education__733': '<9th grade', 'weight__733': 78.2, 'bmi__733': 26.0, 'age__733': 35, 'gender__733': 'male', 'height__734': 165.0, 'smoking__734': 'no', 'education__734': 'College or above', 'weight__734': 58.3, 'bmi__734': 21.4, 'age__734': 24, 'gender__734': 'female'}\n",
      "2025-07-11 09:12:46,952 INFO sqlalchemy.engine.Engine COMMIT\n"
     ]
    },
    {
     "data": {
      "text/plain": [
       "735"
      ]
     },
     "execution_count": 14,
     "metadata": {},
     "output_type": "execute_result"
    }
   ],
   "source": [
    "df_cleaned = pd.read_csv('clean_data.csv')\n",
    "df_cleaned.to_sql('health_data_cleaned', con=engine, if_exists='replace', index=False)"
   ]
  },
  {
   "cell_type": "code",
   "execution_count": 17,
   "id": "abd064f6",
   "metadata": {},
   "outputs": [
    {
     "name": "stdout",
     "output_type": "stream",
     "text": [
      "2025-07-11 09:14:25,140 INFO sqlalchemy.engine.Engine BEGIN (implicit)\n",
      "2025-07-11 09:14:25,141 INFO sqlalchemy.engine.Engine SELECT gender, COUNT(*) FROM health_data_cleaned GROUP BY gender\n",
      "2025-07-11 09:14:25,142 INFO sqlalchemy.engine.Engine [generated in 0.00186s] {}\n",
      "Répartition par genre: [('female', 2976), ('male', 2759)]\n",
      "2025-07-11 09:14:25,148 INFO sqlalchemy.engine.Engine ROLLBACK\n"
     ]
    }
   ],
   "source": [
    "\n",
    "query_gender = text(\"SELECT gender, COUNT(*) FROM health_data_cleaned GROUP BY gender\")\n",
    "with engine.connect() as conn:\n",
    "    result = conn.execute(query_gender).fetchall()\n",
    "    print(\"Répartition par genre:\",result)\n"
   ]
  },
  {
   "cell_type": "code",
   "execution_count": 18,
   "id": "1d6e11aa",
   "metadata": {},
   "outputs": [
    {
     "name": "stdout",
     "output_type": "stream",
     "text": [
      "2025-07-11 09:14:36,592 INFO sqlalchemy.engine.Engine BEGIN (implicit)\n",
      "2025-07-11 09:14:36,598 INFO sqlalchemy.engine.Engine SELECT smoking, COUNT(*) FROM health_data_cleaned GROUP BY smoking\n",
      "2025-07-11 09:14:36,602 INFO sqlalchemy.engine.Engine [generated in 0.01086s] {}\n",
      "Répartition par tabagisme: [(None, 2), ('no', 3406), ('9', 8), ('yes', 2319)]\n",
      "2025-07-11 09:14:36,613 INFO sqlalchemy.engine.Engine ROLLBACK\n"
     ]
    }
   ],
   "source": [
    "query_smoking = text(\"SELECT smoking, COUNT(*) FROM health_data_cleaned GROUP BY smoking\")\n",
    "with engine.connect() as conn:\n",
    "    print(\"Répartition par tabagisme:\", conn.execute(query_smoking).fetchall())"
   ]
  },
  {
   "cell_type": "code",
   "execution_count": 19,
   "id": "7b7e99db",
   "metadata": {},
   "outputs": [
    {
     "name": "stdout",
     "output_type": "stream",
     "text": [
      "2025-07-11 09:14:45,120 INFO sqlalchemy.engine.Engine BEGIN (implicit)\n",
      "2025-07-11 09:14:45,121 INFO sqlalchemy.engine.Engine SELECT gender, AVG(bmi) FROM health_data_cleaned GROUP BY gender\n",
      "2025-07-11 09:14:45,122 INFO sqlalchemy.engine.Engine [generated in 0.00255s] {}\n",
      "Moyenne BMI par genre: [('female', 29.933948355951657), ('male', 28.78704968511905)]\n",
      "2025-07-11 09:14:45,127 INFO sqlalchemy.engine.Engine ROLLBACK\n"
     ]
    }
   ],
   "source": [
    "query_bmi_gender = text(\"SELECT gender, AVG(bmi) FROM health_data_cleaned GROUP BY gender\")\n",
    "with engine.connect() as conn:\n",
    "    print(\"Moyenne BMI par genre:\", conn.execute(query_bmi_gender).fetchall())"
   ]
  },
  {
   "cell_type": "code",
   "execution_count": 20,
   "id": "82be46ee",
   "metadata": {},
   "outputs": [
    {
     "name": "stdout",
     "output_type": "stream",
     "text": [
      "2025-07-11 09:14:56,787 INFO sqlalchemy.engine.Engine BEGIN (implicit)\n",
      "2025-07-11 09:14:56,789 INFO sqlalchemy.engine.Engine SELECT education, COUNT(*) FROM health_data_cleaned GROUP BY education\n",
      "2025-07-11 09:14:56,790 INFO sqlalchemy.engine.Engine [generated in 0.00293s] {}\n",
      "Répartition par éducation: [('9-11th grade', 643), ('Some college / AA', 1882), ('College or above', 1366), ('HS or GED', 1186), ('9.0', 3), ('<9th grade', 655)]\n",
      "2025-07-11 09:14:56,794 INFO sqlalchemy.engine.Engine ROLLBACK\n"
     ]
    }
   ],
   "source": [
    "query_edu = text(\"SELECT education, COUNT(*) FROM health_data_cleaned GROUP BY education\")\n",
    "with engine.connect() as conn:\n",
    "    print(\"Répartition par éducation:\", conn.execute(query_edu).fetchall())"
   ]
  }
 ],
 "metadata": {
  "kernelspec": {
   "display_name": "Python 3",
   "language": "python",
   "name": "python3"
  },
  "language_info": {
   "codemirror_mode": {
    "name": "ipython",
    "version": 3
   },
   "file_extension": ".py",
   "mimetype": "text/x-python",
   "name": "python",
   "nbconvert_exporter": "python",
   "pygments_lexer": "ipython3",
   "version": "3.12.10"
  }
 },
 "nbformat": 4,
 "nbformat_minor": 5
}
